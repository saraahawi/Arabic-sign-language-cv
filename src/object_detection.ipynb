# Import libraries
import openCV as cv
# LabelImg for real-time interpretation

